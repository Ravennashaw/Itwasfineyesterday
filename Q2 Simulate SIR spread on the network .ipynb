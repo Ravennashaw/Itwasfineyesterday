{
 "cells": [
  {
   "cell_type": "markdown",
   "id": "d830b651",
   "metadata": {},
   "source": [
    "# Yo look here !"
   ]
  },
  {
   "cell_type": "markdown",
   "id": "a94c117c",
   "metadata": {},
   "source": [
    "### Problem 2  simulate SIR spread on the network"
   ]
  },
  {
   "cell_type": "code",
   "execution_count": 1,
   "id": "d388f8cf",
   "metadata": {},
   "outputs": [
    {
     "name": "stdout",
     "output_type": "stream",
     "text": [
      "no display found. Using non-interactive Agg backend\n"
     ]
    },
    {
     "name": "stderr",
     "output_type": "stream",
     "text": [
      "C:\\Users\\Administrator\\AppData\\Local\\Temp\\ipykernel_19488\\2364358282.py:104: UserWarning: Matplotlib is currently using agg, which is a non-GUI backend, so cannot show the figure.\n",
      "  plt.show()\n"
     ]
    }
   ],
   "source": [
    "import networkx as nx\n",
    "import ndlib.models.epidemics as ep\n",
    "import matplotlib\n",
    "matplotlib.use('TkAgg')\n",
    "import matplotlib.pyplot as plt\n",
    "from ndlib.viz.mpl.DiffusionTrend import DiffusionTrend\n",
    "from ndlib.viz.bokeh.MultiPlot import MultiPlot\n",
    "from bokeh.io import output_notebook, show\n",
    "import ndlib.models.ModelConfig as mc\n",
    "\n",
    "# Network Definition (random network models)\n",
    "G1 = nx.erdos_renyi_graph(1000, 0.1)\n",
    "G2 = nx.barabasi_albert_graph(1000, 5)   \n",
    "# n=nodes, m=#edges to attach from a new node to existing nodes\n",
    "G3 = nx.watts_strogatz_graph(1000,10,0.1)\n",
    "# n=nodes, k= node connected to k nearest neighbors, p=Probability of rewiring each edge\n",
    "\n",
    "all_trends = {}\n",
    "all_results = {}\n",
    "initial_status = {i:1 for i in range(10)}\n",
    "\n",
    "# 1 vary fraction_infected\n",
    "# 2 specifically infect certain nodes\n",
    "# 3 vary disease parameters \n",
    "\n",
    "betas = [0.03, 0.04, 0.05]\n",
    "gammas = [0.015, 0.016, 0.017]\n",
    "fractions = [0.01, 0.05, 0.1, 0.2]\n",
    "\n",
    "for fraction in fractions:\n",
    "    for beta in betas:\n",
    "        for gamma in gammas:\n",
    "            config = mc.Configuration()\n",
    "            config.add_model_initial_configuration(\"Infected\", initial_status)\n",
    "            config.add_model_parameter('beta', beta)\n",
    "            config.add_model_parameter('gamma', gamma)\n",
    "            config.add_model_parameter(\"fraction_infected\", fraction)\n",
    "\n",
    "            model1 = ep.SIRModel(G1)\n",
    "            model2 = ep.SIRModel(G2)\n",
    "            model3 = ep.SIRModel(G3)\n",
    "            \n",
    "            model1.set_initial_status(config)\n",
    "            model2.set_initial_status(config)\n",
    "            model3.set_initial_status(config)\n",
    "\n",
    "            iterations1 = model1.iteration_bunch(200)\n",
    "            iterations2 = model2.iteration_bunch(200)\n",
    "            iterations3 = model3.iteration_bunch(200)\n",
    "\n",
    "            trends1 = model1.build_trends(iterations1)\n",
    "            trends2 = model2.build_trends(iterations2)\n",
    "            trends3 = model3.build_trends(iterations3)\n",
    "\n",
    "            peak_infected1 = max(trends1[0]['trends']['node_count'][1])\n",
    "            peak_infected2 = max(trends2[0]['trends']['node_count'][1])\n",
    "            peak_infected3 = max(trends3[0]['trends']['node_count'][1])\n",
    "\n",
    "            # storing the peak of the epidemic, which is the highest number of infected nodes at any time step during the simulation. \n",
    "            all_results[(fraction, beta, gamma)] = {\n",
    "                'trends1': trends1,\n",
    "                'trends2': trends2,\n",
    "                'trends3': trends3,\n",
    "                'peak_infected1': peak_infected1,\n",
    "                'peak_infected2': peak_infected2,\n",
    "                'peak_infected3': peak_infected3\n",
    "            }\n",
    "\n",
    "\n",
    "times1 = range(len(trends1[0]['trends']['node_count'][1]))\n",
    "infected1 = trends1[0]['trends']['node_count'][1]\n",
    "\n",
    "times2 = range(len(trends2[0]['trends']['node_count'][1]))\n",
    "infected2 = trends2[0]['trends']['node_count'][1]\n",
    "\n",
    "times3 = range(len(trends3[0]['trends']['node_count'][1]))\n",
    "infected3 = trends3[0]['trends']['node_count'][1]\n",
    "\n",
    "\n",
    "# Create a 3x1 subplot layout\n",
    "fig, axes = plt.subplots(nrows=3, ncols=1, figsize=(16, 18))\n",
    "\n",
    "# Plot the diffusion trend for model1\n",
    "axes[0].plot(times1, infected1, '-o', label='Infected')\n",
    "axes[0].set_title('Erdos-Renyi Graph',fontsize=10, y=1.0)\n",
    "axes[0].set_ylabel('Number of Infected Nodes',fontsize=10, y=1.0)\n",
    "axes[0].legend()\n",
    "\n",
    "# Plot the diffusion trend for model2\n",
    "axes[1].plot(times2, infected2, '-o', label='Infected')\n",
    "axes[1].set_title('Barabasi-Albert Graph',fontsize=10, y=1.0)\n",
    "axes[1].set_ylabel('Number of Infected Nodes',fontsize=10, y=1.0)\n",
    "axes[1].legend()\n",
    "\n",
    "# Plot the diffusion trend for model3\n",
    "axes[2].plot(times3, infected3, '-o', label='Infected')\n",
    "axes[2].set_title('Watts-Strogatz Graph',fontsize=10, y=1.0)\n",
    "axes[2].set_ylabel('Number of Infected Nodes',fontsize=10, y=1.0)\n",
    "axes[2].set_xlabel('Time')\n",
    "axes[2].legend()\n",
    "\n",
    "# Adjust the layout and display\n",
    "plt.tight_layout()\n",
    "plt.show()"
   ]
  },
  {
   "cell_type": "code",
   "execution_count": null,
   "id": "3fbf0a30",
   "metadata": {},
   "outputs": [],
   "source": []
  },
  {
   "cell_type": "code",
   "execution_count": null,
   "id": "71665a2b",
   "metadata": {},
   "outputs": [],
   "source": []
  }
 ],
 "metadata": {
  "kernelspec": {
   "display_name": "Python 3 (ipykernel)",
   "language": "python",
   "name": "python3"
  },
  "language_info": {
   "codemirror_mode": {
    "name": "ipython",
    "version": 3
   },
   "file_extension": ".py",
   "mimetype": "text/x-python",
   "name": "python",
   "nbconvert_exporter": "python",
   "pygments_lexer": "ipython3",
   "version": "3.11.4"
  }
 },
 "nbformat": 4,
 "nbformat_minor": 5
}
